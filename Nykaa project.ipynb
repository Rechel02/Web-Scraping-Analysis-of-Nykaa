{
 "cells": [
  {
   "cell_type": "code",
   "execution_count": 5,
   "metadata": {},
   "outputs": [
    {
     "name": "stdout",
     "output_type": "stream",
     "text": [
      "Requirement already satisfied: requests in c:\\users\\ravir\\anaconda3\\lib\\site-packages (2.24.0)\n",
      "Requirement already satisfied: idna<3,>=2.5 in c:\\users\\ravir\\anaconda3\\lib\\site-packages (from requests) (2.10)\n",
      "Requirement already satisfied: chardet<4,>=3.0.2 in c:\\users\\ravir\\anaconda3\\lib\\site-packages (from requests) (3.0.4)\n",
      "Requirement already satisfied: urllib3!=1.25.0,!=1.25.1,<1.26,>=1.21.1 in c:\\users\\ravir\\anaconda3\\lib\\site-packages (from requests) (1.25.11)\n",
      "Requirement already satisfied: certifi>=2017.4.17 in c:\\users\\ravir\\anaconda3\\lib\\site-packages (from requests) (2020.6.20)\n",
      "Requirement already satisfied: bs4 in c:\\users\\ravir\\anaconda3\\lib\\site-packages (0.0.1)\n",
      "Requirement already satisfied: beautifulsoup4 in c:\\users\\ravir\\anaconda3\\lib\\site-packages (from bs4) (4.9.3)\n",
      "Requirement already satisfied: soupsieve>1.2; python_version >= \"3.0\" in c:\\users\\ravir\\anaconda3\\lib\\site-packages (from beautifulsoup4->bs4) (2.0.1)\n"
     ]
    }
   ],
   "source": [
    "!pip install requests\n",
    "!pip install bs4\n",
    "import requests\n",
    "from bs4 import BeautifulSoup as bs"
   ]
  },
  {
   "cell_type": "code",
   "execution_count": 6,
   "metadata": {},
   "outputs": [],
   "source": [
    "\n",
    "import pandas as pd\n",
    "import seaborn as sns\n",
    "import matplotlib.pyplot as plt"
   ]
  },
  {
   "cell_type": "code",
   "execution_count": 7,
   "metadata": {},
   "outputs": [
    {
     "data": {
      "text/plain": [
       "200"
      ]
     },
     "execution_count": 7,
     "metadata": {},
     "output_type": "execute_result"
    }
   ],
   "source": [
    "response= requests.get('https://www.nykaa.com/skin/c/8377')\n",
    "response.status_code"
   ]
  },
  {
   "cell_type": "code",
   "execution_count": 9,
   "metadata": {},
   "outputs": [
    {
     "data": {
      "text/plain": [
       "411946"
      ]
     },
     "execution_count": 9,
     "metadata": {},
     "output_type": "execute_result"
    }
   ],
   "source": [
    "content= response.text\n",
    "len(content)"
   ]
  },
  {
   "cell_type": "code",
   "execution_count": 10,
   "metadata": {},
   "outputs": [],
   "source": [
    "doc= bs(content,\"html.parser\")"
   ]
  },
  {
   "cell_type": "code",
   "execution_count": 11,
   "metadata": {},
   "outputs": [
    {
     "name": "stdout",
     "output_type": "stream",
     "text": [
      "Nykaa SKINRX 10% Vitamin C with 5% Niacinamide Illuminate + ...\n",
      "Nykaa Naturals Skin Potion Glow Boosting Skincare Face Oil w...\n",
      "Mamaearth Ubtan Face Wash With Turmeric & Saffron For Tan Re...\n",
      "Nudestix Nudeskin 3-Step Citrus Skin Renewal For Gentle Skin\n",
      "Garnier Bright Complete 30X VITAMIN C Booster Face Serum\n",
      "Biotique Bio Papaya Revitalizing Tan removal Scrub\n",
      "Plum 15% Vitamin C Face Serum with Mandarin for Glowing Skin...\n",
      "Palmolive Brightening Souffle Face Scrub\n",
      "Soulflower 2% Salicylic Acid & Tea Tree Foaming Face Wash Wi...\n",
      "Nykaa Naturals Skin Secrets Exotic Indulgence Sheet Mask\n",
      "The Ordinary Niacinamide 10% + Zinc 1%\n",
      "Cetaphil Gentle Skin Cleanser\n",
      "Ponds Super Light Gel Oil Free Moisturiser With Hyaluronic A...\n",
      "Neutrogena UltraSheer Dry Touch Sunblock SPF 50+\n",
      "Cetaphil Moisturising Cream\n",
      "Neutrogena Hydro Boost Water Gel\n",
      "COSRX Advanced Snail 96 Mucin Power Essence\n",
      "Nykaa Naturals Skin Secrets Indian Rituals Sheet Mask\n",
      "Estee Lauder Advanced Night Repair Synchronized Multi-Recove...\n",
      "Minimalist SPF 50 PA ++++ Sunscreen With Multi-Vitamin For R...\n"
     ]
    }
   ],
   "source": [
    "nametags=doc.find_all('div',{'class':'css-xrzmfa'})\n",
    "for name in nametags:\n",
    "    print(name.text)\n"
   ]
  },
  {
   "cell_type": "code",
   "execution_count": 12,
   "metadata": {},
   "outputs": [
    {
     "name": "stdout",
     "output_type": "stream",
     "text": [
      "MRP:₹699\n",
      "MRP:\n",
      "MRP:₹249\n",
      "MRP:\n",
      "MRP:₹549\n",
      "MRP:\n",
      "MRP:₹550\n",
      "MRP:₹599\n",
      "MRP:₹450\n",
      "MRP:\n",
      "MRP:\n",
      "MRP:₹305\n",
      "MRP:\n",
      "MRP:₹675\n",
      "MRP:₹465\n",
      "MRP:\n",
      "MRP:\n",
      "MRP:\n",
      "MRP:\n",
      "MRP:\n"
     ]
    }
   ],
   "source": [
    "originalprice =  doc.find_all('span',{'class':'css-17x46n5'})\n",
    "for price in originalprice:\n",
    "    print(price.text)"
   ]
  },
  {
   "cell_type": "code",
   "execution_count": 13,
   "metadata": {},
   "outputs": [
    {
     "name": "stdout",
     "output_type": "stream",
     "text": [
      "₹594\n",
      "₹699\n",
      "₹232\n",
      "₹2300\n",
      "₹522\n",
      "₹100\n",
      "₹523\n",
      "₹449\n",
      "₹383\n",
      "₹100\n",
      "₹600\n",
      "₹275\n",
      "₹100\n",
      "₹574\n",
      "₹419\n",
      "₹450\n",
      "₹1450\n",
      "₹100\n",
      "₹5900\n",
      "₹399\n"
     ]
    }
   ],
   "source": [
    "offerprice=doc.find_all('span',{'class':'css-111z9ua'})\n",
    "for offerp in offerprice:\n",
    "    print(offerp.text)"
   ]
  },
  {
   "cell_type": "code",
   "execution_count": 14,
   "metadata": {},
   "outputs": [
    {
     "name": "stdout",
     "output_type": "stream",
     "text": [
      "15% Off\n",
      "7% Off\n",
      "5% Off\n",
      "5% Off\n",
      "25% Off\n",
      "15% Off\n",
      "10% Off\n",
      "15% Off\n",
      "10% Off\n"
     ]
    }
   ],
   "source": [
    "discount =  doc.find_all('span',{'class':'css-r2b2eh'})\n",
    "for dis in discount:\n",
    "    print(dis.text)"
   ]
  },
  {
   "cell_type": "code",
   "execution_count": 15,
   "metadata": {},
   "outputs": [
    {
     "name": "stdout",
     "output_type": "stream",
     "text": [
      "Get Free Product\n",
      "Enjoy Free Gift\n",
      "Extra 5% Off\n",
      "Buy 5 Get 5 Free\n",
      "Extra 5% Off\n",
      "Extra 5% Off\n",
      "Buy 5 Get 5 Free\n"
     ]
    }
   ],
   "source": [
    "offer = doc.find_all('p',{'class':'css-i6xqbh'})\n",
    "for o in offer:\n",
    "    print(o.text)"
   ]
  },
  {
   "cell_type": "code",
   "execution_count": 16,
   "metadata": {},
   "outputs": [
    {
     "name": "stdout",
     "output_type": "stream",
     "text": [
      "( 453 )\n",
      "( 19138 )\n",
      "( 3175 )\n",
      "( 3 )\n",
      "( 2417 )\n",
      "( 52984 )\n",
      "( 16719 )\n",
      "( 150 )\n",
      "( 41 )\n",
      "( 184627 )\n",
      "( 5868 )\n",
      "( 51475 )\n",
      "( 81461 )\n",
      "( 77220 )\n",
      "( 24739 )\n",
      "( 37020 )\n",
      "( 5520 )\n",
      "( 23674 )\n",
      "( 15385 )\n",
      "( 9933 )\n"
     ]
    }
   ],
   "source": [
    "reviews = doc.find_all('span',{'class':'css-1j33oxj'})\n",
    "for r in reviews:\n",
    "    print(r.text)"
   ]
  },
  {
   "cell_type": "code",
   "execution_count": 17,
   "metadata": {},
   "outputs": [],
   "source": [
    "productDetails = []\n",
    "for name,op,ofp,d,o,r in zip(nametags,originalprice,offerprice,discount,offer,reviews):\n",
    "    productDetails.append({'Product Name' : name.text,\n",
    "                            'Origional Prize' : op.text,\n",
    "                            'Offer Prize' : ofp.text,\n",
    "                            'Discount':d.text,\n",
    "                            'Reviews' : r.text,\n",
    "                            'Offer' : o.text})"
   ]
  },
  {
   "cell_type": "code",
   "execution_count": 18,
   "metadata": {},
   "outputs": [
    {
     "data": {
      "text/plain": [
       "[{'Product Name': 'Nykaa SKINRX 10% Vitamin C with 5% Niacinamide Illuminate + ...',\n",
       "  'Origional Prize': 'MRP:₹699',\n",
       "  'Offer Prize': '₹594',\n",
       "  'Discount': '15% Off',\n",
       "  'Reviews': '( 453 )',\n",
       "  'Offer': 'Get Free Product'},\n",
       " {'Product Name': 'Nykaa Naturals Skin Potion Glow Boosting Skincare Face Oil w...',\n",
       "  'Origional Prize': 'MRP:',\n",
       "  'Offer Prize': '₹699',\n",
       "  'Discount': '7% Off',\n",
       "  'Reviews': '( 19138 )',\n",
       "  'Offer': 'Enjoy Free Gift'},\n",
       " {'Product Name': 'Mamaearth Ubtan Face Wash With Turmeric & Saffron For Tan Re...',\n",
       "  'Origional Prize': 'MRP:₹249',\n",
       "  'Offer Prize': '₹232',\n",
       "  'Discount': '5% Off',\n",
       "  'Reviews': '( 3175 )',\n",
       "  'Offer': 'Extra 5% Off'},\n",
       " {'Product Name': 'Nudestix Nudeskin 3-Step Citrus Skin Renewal For Gentle Skin',\n",
       "  'Origional Prize': 'MRP:',\n",
       "  'Offer Prize': '₹2300',\n",
       "  'Discount': '5% Off',\n",
       "  'Reviews': '( 3 )',\n",
       "  'Offer': 'Buy 5 Get 5 Free'}]"
      ]
     },
     "execution_count": 18,
     "metadata": {},
     "output_type": "execute_result"
    }
   ],
   "source": [
    "productDetails[:4]"
   ]
  },
  {
   "cell_type": "code",
   "execution_count": 19,
   "metadata": {},
   "outputs": [
    {
     "data": {
      "text/html": [
       "<div>\n",
       "<style scoped>\n",
       "    .dataframe tbody tr th:only-of-type {\n",
       "        vertical-align: middle;\n",
       "    }\n",
       "\n",
       "    .dataframe tbody tr th {\n",
       "        vertical-align: top;\n",
       "    }\n",
       "\n",
       "    .dataframe thead th {\n",
       "        text-align: right;\n",
       "    }\n",
       "</style>\n",
       "<table border=\"1\" class=\"dataframe\">\n",
       "  <thead>\n",
       "    <tr style=\"text-align: right;\">\n",
       "      <th></th>\n",
       "      <th>Product Name</th>\n",
       "      <th>Origional Prize</th>\n",
       "      <th>Offer Prize</th>\n",
       "      <th>Discount</th>\n",
       "      <th>Reviews</th>\n",
       "      <th>Offer</th>\n",
       "    </tr>\n",
       "  </thead>\n",
       "  <tbody>\n",
       "    <tr>\n",
       "      <th>0</th>\n",
       "      <td>Nykaa SKINRX 10% Vitamin C with 5% Niacinamide...</td>\n",
       "      <td>MRP:₹699</td>\n",
       "      <td>₹594</td>\n",
       "      <td>15% Off</td>\n",
       "      <td>( 453 )</td>\n",
       "      <td>Get Free Product</td>\n",
       "    </tr>\n",
       "    <tr>\n",
       "      <th>1</th>\n",
       "      <td>Nykaa Naturals Skin Potion Glow Boosting Skinc...</td>\n",
       "      <td>MRP:</td>\n",
       "      <td>₹699</td>\n",
       "      <td>7% Off</td>\n",
       "      <td>( 19138 )</td>\n",
       "      <td>Enjoy Free Gift</td>\n",
       "    </tr>\n",
       "    <tr>\n",
       "      <th>2</th>\n",
       "      <td>Mamaearth Ubtan Face Wash With Turmeric &amp; Saff...</td>\n",
       "      <td>MRP:₹249</td>\n",
       "      <td>₹232</td>\n",
       "      <td>5% Off</td>\n",
       "      <td>( 3175 )</td>\n",
       "      <td>Extra 5% Off</td>\n",
       "    </tr>\n",
       "    <tr>\n",
       "      <th>3</th>\n",
       "      <td>Nudestix Nudeskin 3-Step Citrus Skin Renewal F...</td>\n",
       "      <td>MRP:</td>\n",
       "      <td>₹2300</td>\n",
       "      <td>5% Off</td>\n",
       "      <td>( 3 )</td>\n",
       "      <td>Buy 5 Get 5 Free</td>\n",
       "    </tr>\n",
       "    <tr>\n",
       "      <th>4</th>\n",
       "      <td>Garnier Bright Complete 30X VITAMIN C Booster ...</td>\n",
       "      <td>MRP:₹549</td>\n",
       "      <td>₹522</td>\n",
       "      <td>25% Off</td>\n",
       "      <td>( 2417 )</td>\n",
       "      <td>Extra 5% Off</td>\n",
       "    </tr>\n",
       "    <tr>\n",
       "      <th>5</th>\n",
       "      <td>Biotique Bio Papaya Revitalizing Tan removal S...</td>\n",
       "      <td>MRP:</td>\n",
       "      <td>₹100</td>\n",
       "      <td>15% Off</td>\n",
       "      <td>( 52984 )</td>\n",
       "      <td>Extra 5% Off</td>\n",
       "    </tr>\n",
       "    <tr>\n",
       "      <th>6</th>\n",
       "      <td>Plum 15% Vitamin C Face Serum with Mandarin fo...</td>\n",
       "      <td>MRP:₹550</td>\n",
       "      <td>₹523</td>\n",
       "      <td>10% Off</td>\n",
       "      <td>( 16719 )</td>\n",
       "      <td>Buy 5 Get 5 Free</td>\n",
       "    </tr>\n",
       "  </tbody>\n",
       "</table>\n",
       "</div>"
      ],
      "text/plain": [
       "                                        Product Name Origional Prize  \\\n",
       "0  Nykaa SKINRX 10% Vitamin C with 5% Niacinamide...        MRP:₹699   \n",
       "1  Nykaa Naturals Skin Potion Glow Boosting Skinc...            MRP:   \n",
       "2  Mamaearth Ubtan Face Wash With Turmeric & Saff...        MRP:₹249   \n",
       "3  Nudestix Nudeskin 3-Step Citrus Skin Renewal F...            MRP:   \n",
       "4  Garnier Bright Complete 30X VITAMIN C Booster ...        MRP:₹549   \n",
       "5  Biotique Bio Papaya Revitalizing Tan removal S...            MRP:   \n",
       "6  Plum 15% Vitamin C Face Serum with Mandarin fo...        MRP:₹550   \n",
       "\n",
       "  Offer Prize Discount    Reviews             Offer  \n",
       "0        ₹594  15% Off    ( 453 )  Get Free Product  \n",
       "1        ₹699   7% Off  ( 19138 )   Enjoy Free Gift  \n",
       "2        ₹232   5% Off   ( 3175 )      Extra 5% Off  \n",
       "3       ₹2300   5% Off      ( 3 )  Buy 5 Get 5 Free  \n",
       "4        ₹522  25% Off   ( 2417 )      Extra 5% Off  \n",
       "5        ₹100  15% Off  ( 52984 )      Extra 5% Off  \n",
       "6        ₹523  10% Off  ( 16719 )  Buy 5 Get 5 Free  "
      ]
     },
     "execution_count": 19,
     "metadata": {},
     "output_type": "execute_result"
    }
   ],
   "source": [
    "df = pd.DataFrame(productDetails,columns=['Product Name','Origional Prize','Offer Prize',\n",
    "                                          'Discount','Reviews','Offer'])\n",
    "df"
   ]
  },
  {
   "cell_type": "code",
   "execution_count": 20,
   "metadata": {},
   "outputs": [],
   "source": [
    "def get_page_contents(url):\n",
    "    \n",
    "    response= requests.get(url)\n",
    "    if response.status_code==200:\n",
    "        doc= bs(response.text,'html.parser')\n",
    "        return doc"
   ]
  },
  {
   "cell_type": "code",
   "execution_count": 21,
   "metadata": {},
   "outputs": [],
   "source": [
    "def get_productname(doc):\n",
    "    \n",
    "    productname = []\n",
    "\n",
    "    for name in doc.find_all('div',{'class':'css-xrzmfa'}):\n",
    "        productname.append(name.text)\n",
    "    return productname"
   ]
  },
  {
   "cell_type": "code",
   "execution_count": 22,
   "metadata": {},
   "outputs": [],
   "source": [
    "def get_productprice(doc):\n",
    "    \n",
    "    orgprice = [None if i.find('span',class_='css-17x46n5').text == 'MRP:' else i.find('span',class_='css-17x46n5').text\n",
    "                for i in doc.find_all('div',class_='css-1d0jf8e') if i.find('span',class_='css-17x46n5')]\n",
    "    \n",
    "    return orgprice"
   ]
  },
  {
   "cell_type": "code",
   "execution_count": 23,
   "metadata": {},
   "outputs": [],
   "source": [
    "def get_offer_price(doc):\n",
    "    \n",
    "    offerprice= [price.text if price else None for price in doc.find_all('span',{'class':'css-111z9ua'})]\n",
    "    \n",
    "    return offerprice"
   ]
  },
  {
   "cell_type": "code",
   "execution_count": 25,
   "metadata": {},
   "outputs": [],
   "source": [
    "def get_free_gift(doc):\n",
    "    \n",
    "    freegift = [gift.find('p', class_ = 'css-i6xqbh').text if gift.find('p', class_ = 'css-i6xqbh') else None \n",
    "                for  gift in doc.find_all('div', {'class':'css-1rd7vky'}) ]\n",
    "    \n",
    "    return freegift"
   ]
  },
  {
   "cell_type": "code",
   "execution_count": 27,
   "metadata": {},
   "outputs": [],
   "source": [
    "def getoffer(doc):\n",
    "    \n",
    "    offer = [i.find('span', class_ = 'css-r2b2eh').text if i.find('span', class_ = 'css-r2b2eh') else None \n",
    "             for i in doc.find_all('div', class_='css-1rd7vky')]\n",
    "    \n",
    "    return offer "
   ]
  },
  {
   "cell_type": "code",
   "execution_count": 28,
   "metadata": {},
   "outputs": [],
   "source": [
    "def getreview(doc):\n",
    "\n",
    "    \n",
    "    review = [r.text if r else None for r in doc.find_all('span',{'class':'css-1j33oxj'})]\n",
    "    return review"
   ]
  },
  {
   "cell_type": "code",
   "execution_count": 29,
   "metadata": {},
   "outputs": [],
   "source": [
    "def dictionary(productname,orgprice,offerprice,freegift,offer,review):\n",
    "    \n",
    "    d = []\n",
    "    for productname,origionalprice,offerprice,freegift,offer,review in zip(productname,orgprice,offerprice,freegift,offer,review):\n",
    "        d.append({'Product Name':productname,\n",
    "                  'Origional Price':origionalprice,\n",
    "                  'Offer Price':offerprice,\n",
    "                  'Gift':freegift,\n",
    "                  'Offer':offer,\n",
    "                  'Review':review})\n",
    "    return d"
   ]
  },
  {
   "cell_type": "code",
   "execution_count": 30,
   "metadata": {},
   "outputs": [],
   "source": [
    "def create_df(*args):\n",
    "\n",
    "    return pd.DataFrame(*args)"
   ]
  },
  {
   "cell_type": "code",
   "execution_count": 31,
   "metadata": {},
   "outputs": [
    {
     "data": {
      "text/html": [
       "<div>\n",
       "<style scoped>\n",
       "    .dataframe tbody tr th:only-of-type {\n",
       "        vertical-align: middle;\n",
       "    }\n",
       "\n",
       "    .dataframe tbody tr th {\n",
       "        vertical-align: top;\n",
       "    }\n",
       "\n",
       "    .dataframe thead th {\n",
       "        text-align: right;\n",
       "    }\n",
       "</style>\n",
       "<table border=\"1\" class=\"dataframe\">\n",
       "  <thead>\n",
       "    <tr style=\"text-align: right;\">\n",
       "      <th></th>\n",
       "      <th>Product Name</th>\n",
       "      <th>Origional Price</th>\n",
       "      <th>Offer Price</th>\n",
       "      <th>Gift</th>\n",
       "      <th>Offer</th>\n",
       "      <th>Review</th>\n",
       "    </tr>\n",
       "  </thead>\n",
       "  <tbody>\n",
       "    <tr>\n",
       "      <th>0</th>\n",
       "      <td>Nykaa SKINRX 10% Vitamin C with 5% Niacinamide...</td>\n",
       "      <td>MRP:₹699</td>\n",
       "      <td>₹594</td>\n",
       "      <td>Get Free Product</td>\n",
       "      <td>15% Off</td>\n",
       "      <td>( 453 )</td>\n",
       "    </tr>\n",
       "    <tr>\n",
       "      <th>1</th>\n",
       "      <td>Nykaa Naturals Skin Potion Glow Boosting Skinc...</td>\n",
       "      <td>None</td>\n",
       "      <td>₹699</td>\n",
       "      <td>Enjoy Free Gift</td>\n",
       "      <td>None</td>\n",
       "      <td>( 19138 )</td>\n",
       "    </tr>\n",
       "    <tr>\n",
       "      <th>2</th>\n",
       "      <td>Mamaearth Ubtan Face Wash With Turmeric &amp; Saff...</td>\n",
       "      <td>MRP:₹249</td>\n",
       "      <td>₹232</td>\n",
       "      <td>Extra 5% Off</td>\n",
       "      <td>7% Off</td>\n",
       "      <td>( 3175 )</td>\n",
       "    </tr>\n",
       "    <tr>\n",
       "      <th>3</th>\n",
       "      <td>Nudestix Nudeskin 3-Step Citrus Skin Renewal F...</td>\n",
       "      <td>None</td>\n",
       "      <td>₹2300</td>\n",
       "      <td>None</td>\n",
       "      <td>None</td>\n",
       "      <td>( 3 )</td>\n",
       "    </tr>\n",
       "    <tr>\n",
       "      <th>4</th>\n",
       "      <td>Garnier Bright Complete 30X VITAMIN C Booster ...</td>\n",
       "      <td>MRP:₹549</td>\n",
       "      <td>₹522</td>\n",
       "      <td>None</td>\n",
       "      <td>5% Off</td>\n",
       "      <td>( 2417 )</td>\n",
       "    </tr>\n",
       "    <tr>\n",
       "      <th>...</th>\n",
       "      <td>...</td>\n",
       "      <td>...</td>\n",
       "      <td>...</td>\n",
       "      <td>...</td>\n",
       "      <td>...</td>\n",
       "      <td>...</td>\n",
       "    </tr>\n",
       "    <tr>\n",
       "      <th>593</th>\n",
       "      <td>MCaffeine Body Toning &amp; Polishing Kit - Coffee...</td>\n",
       "      <td>MRP:₹1269</td>\n",
       "      <td>₹999</td>\n",
       "      <td>Enjoy Free Gift</td>\n",
       "      <td>21% Off</td>\n",
       "      <td>( 41016 )</td>\n",
       "    </tr>\n",
       "    <tr>\n",
       "      <th>594</th>\n",
       "      <td>Bio-Oil Original Face &amp; Body Oil Suitable for ...</td>\n",
       "      <td>MRP:₹1200</td>\n",
       "      <td>₹1020</td>\n",
       "      <td>None</td>\n",
       "      <td>15% Off</td>\n",
       "      <td>( 3254 )</td>\n",
       "    </tr>\n",
       "    <tr>\n",
       "      <th>595</th>\n",
       "      <td>Cetaphil Daily Exfoliating Cleanser</td>\n",
       "      <td>MRP:₹850</td>\n",
       "      <td>₹765</td>\n",
       "      <td>None</td>\n",
       "      <td>10% Off</td>\n",
       "      <td>( 1199 )</td>\n",
       "    </tr>\n",
       "    <tr>\n",
       "      <th>596</th>\n",
       "      <td>Lakme Absolute Perfect Radiance Skin Brighteni...</td>\n",
       "      <td>None</td>\n",
       "      <td>₹499</td>\n",
       "      <td>None</td>\n",
       "      <td>None</td>\n",
       "      <td>( 5414 )</td>\n",
       "    </tr>\n",
       "    <tr>\n",
       "      <th>597</th>\n",
       "      <td>Pilgrim White Lotus Day Cream SPF 50 with Came...</td>\n",
       "      <td>MRP:₹500</td>\n",
       "      <td>₹475</td>\n",
       "      <td>None</td>\n",
       "      <td>5% Off</td>\n",
       "      <td>( 1987 )</td>\n",
       "    </tr>\n",
       "  </tbody>\n",
       "</table>\n",
       "<p>598 rows × 6 columns</p>\n",
       "</div>"
      ],
      "text/plain": [
       "                                          Product Name Origional Price  \\\n",
       "0    Nykaa SKINRX 10% Vitamin C with 5% Niacinamide...        MRP:₹699   \n",
       "1    Nykaa Naturals Skin Potion Glow Boosting Skinc...            None   \n",
       "2    Mamaearth Ubtan Face Wash With Turmeric & Saff...        MRP:₹249   \n",
       "3    Nudestix Nudeskin 3-Step Citrus Skin Renewal F...            None   \n",
       "4    Garnier Bright Complete 30X VITAMIN C Booster ...        MRP:₹549   \n",
       "..                                                 ...             ...   \n",
       "593  MCaffeine Body Toning & Polishing Kit - Coffee...       MRP:₹1269   \n",
       "594  Bio-Oil Original Face & Body Oil Suitable for ...       MRP:₹1200   \n",
       "595                Cetaphil Daily Exfoliating Cleanser        MRP:₹850   \n",
       "596  Lakme Absolute Perfect Radiance Skin Brighteni...            None   \n",
       "597  Pilgrim White Lotus Day Cream SPF 50 with Came...        MRP:₹500   \n",
       "\n",
       "    Offer Price              Gift    Offer     Review  \n",
       "0          ₹594  Get Free Product  15% Off    ( 453 )  \n",
       "1          ₹699   Enjoy Free Gift     None  ( 19138 )  \n",
       "2          ₹232      Extra 5% Off   7% Off   ( 3175 )  \n",
       "3         ₹2300              None     None      ( 3 )  \n",
       "4          ₹522              None   5% Off   ( 2417 )  \n",
       "..          ...               ...      ...        ...  \n",
       "593        ₹999   Enjoy Free Gift  21% Off  ( 41016 )  \n",
       "594       ₹1020              None  15% Off   ( 3254 )  \n",
       "595        ₹765              None  10% Off   ( 1199 )  \n",
       "596        ₹499              None     None   ( 5414 )  \n",
       "597        ₹475              None   5% Off   ( 1987 )  \n",
       "\n",
       "[598 rows x 6 columns]"
      ]
     },
     "execution_count": 31,
     "metadata": {},
     "output_type": "execute_result"
    }
   ],
   "source": [
    "baseurl = 'https://www.nykaa.com/skin/c/8377?page_no='\n",
    "\n",
    "finaldict = []\n",
    "\n",
    "for i in range(30):\n",
    "    doc = get_page_contents(baseurl+str(i))\n",
    "    productname = get_productname(doc)\n",
    "    orgprice = get_productprice(doc)\n",
    "    offerprice = get_offer_price(doc)\n",
    "    freegift = get_free_gift(doc)\n",
    "    offer = getoffer(doc)\n",
    "    review = getreview(doc)\n",
    "    \n",
    "    finaldict += dictionary(productname,orgprice,offerprice,freegift,offer,review)\n",
    "    \n",
    "df = create_df(finaldict)\n",
    "df"
   ]
  },
  {
   "cell_type": "code",
   "execution_count": 32,
   "metadata": {},
   "outputs": [],
   "source": [
    "df['Review'] = df['Review'].str.replace('\\(|\\)','',regex=True)\n",
    "df['Offer Price'] = df['Offer Price'].str.replace('\\₹','',regex=True)\n",
    "df['Origional Price'] = df['Origional Price'].str.replace('MRP:₹','',regex=True)"
   ]
  },
  {
   "cell_type": "code",
   "execution_count": 33,
   "metadata": {},
   "outputs": [
    {
     "data": {
      "text/html": [
       "<div>\n",
       "<style scoped>\n",
       "    .dataframe tbody tr th:only-of-type {\n",
       "        vertical-align: middle;\n",
       "    }\n",
       "\n",
       "    .dataframe tbody tr th {\n",
       "        vertical-align: top;\n",
       "    }\n",
       "\n",
       "    .dataframe thead th {\n",
       "        text-align: right;\n",
       "    }\n",
       "</style>\n",
       "<table border=\"1\" class=\"dataframe\">\n",
       "  <thead>\n",
       "    <tr style=\"text-align: right;\">\n",
       "      <th></th>\n",
       "      <th>Product Name</th>\n",
       "      <th>Origional Price</th>\n",
       "      <th>Offer Price</th>\n",
       "      <th>Gift</th>\n",
       "      <th>Offer</th>\n",
       "      <th>Review</th>\n",
       "    </tr>\n",
       "  </thead>\n",
       "  <tbody>\n",
       "    <tr>\n",
       "      <th>0</th>\n",
       "      <td>Nykaa SKINRX 10% Vitamin C with 5% Niacinamide...</td>\n",
       "      <td>699.0</td>\n",
       "      <td>594</td>\n",
       "      <td>Get Free Product</td>\n",
       "      <td>15% Off</td>\n",
       "      <td>453</td>\n",
       "    </tr>\n",
       "    <tr>\n",
       "      <th>1</th>\n",
       "      <td>Nykaa Naturals Skin Potion Glow Boosting Skinc...</td>\n",
       "      <td>NaN</td>\n",
       "      <td>699</td>\n",
       "      <td>Enjoy Free Gift</td>\n",
       "      <td>None</td>\n",
       "      <td>19138</td>\n",
       "    </tr>\n",
       "    <tr>\n",
       "      <th>2</th>\n",
       "      <td>Mamaearth Ubtan Face Wash With Turmeric &amp; Saff...</td>\n",
       "      <td>249.0</td>\n",
       "      <td>232</td>\n",
       "      <td>Extra 5% Off</td>\n",
       "      <td>7% Off</td>\n",
       "      <td>3175</td>\n",
       "    </tr>\n",
       "    <tr>\n",
       "      <th>3</th>\n",
       "      <td>Nudestix Nudeskin 3-Step Citrus Skin Renewal F...</td>\n",
       "      <td>NaN</td>\n",
       "      <td>2300</td>\n",
       "      <td>None</td>\n",
       "      <td>None</td>\n",
       "      <td>3</td>\n",
       "    </tr>\n",
       "    <tr>\n",
       "      <th>4</th>\n",
       "      <td>Garnier Bright Complete 30X VITAMIN C Booster ...</td>\n",
       "      <td>549.0</td>\n",
       "      <td>522</td>\n",
       "      <td>None</td>\n",
       "      <td>5% Off</td>\n",
       "      <td>2417</td>\n",
       "    </tr>\n",
       "  </tbody>\n",
       "</table>\n",
       "</div>"
      ],
      "text/plain": [
       "                                        Product Name  Origional Price  \\\n",
       "0  Nykaa SKINRX 10% Vitamin C with 5% Niacinamide...            699.0   \n",
       "1  Nykaa Naturals Skin Potion Glow Boosting Skinc...              NaN   \n",
       "2  Mamaearth Ubtan Face Wash With Turmeric & Saff...            249.0   \n",
       "3  Nudestix Nudeskin 3-Step Citrus Skin Renewal F...              NaN   \n",
       "4  Garnier Bright Complete 30X VITAMIN C Booster ...            549.0   \n",
       "\n",
       "   Offer Price              Gift    Offer  Review  \n",
       "0          594  Get Free Product  15% Off     453  \n",
       "1          699   Enjoy Free Gift     None   19138  \n",
       "2          232      Extra 5% Off   7% Off    3175  \n",
       "3         2300              None     None       3  \n",
       "4          522              None   5% Off    2417  "
      ]
     },
     "execution_count": 33,
     "metadata": {},
     "output_type": "execute_result"
    }
   ],
   "source": [
    "df[['Origional Price','Offer Price','Review']] = df[['Origional Price','Offer Price','Review']].apply(pd.to_numeric)\n",
    "df.head()"
   ]
  },
  {
   "cell_type": "code",
   "execution_count": 34,
   "metadata": {},
   "outputs": [
    {
     "data": {
      "text/plain": [
       "(598, 6)"
      ]
     },
     "execution_count": 34,
     "metadata": {},
     "output_type": "execute_result"
    }
   ],
   "source": [
    "df.shape\n"
   ]
  },
  {
   "cell_type": "code",
   "execution_count": 35,
   "metadata": {},
   "outputs": [
    {
     "data": {
      "text/plain": [
       "Product Name         0\n",
       "Origional Price    273\n",
       "Offer Price          0\n",
       "Gift               405\n",
       "Offer              273\n",
       "Review               0\n",
       "dtype: int64"
      ]
     },
     "execution_count": 35,
     "metadata": {},
     "output_type": "execute_result"
    }
   ],
   "source": [
    "df.isnull().sum()"
   ]
  },
  {
   "cell_type": "code",
   "execution_count": 36,
   "metadata": {},
   "outputs": [],
   "source": [
    "df['Offer'] = df['Offer'].fillna('0% Off')\n",
    "df['Gift'] = df['Gift'].fillna('No Gift')\n",
    "df['Origional Price'] = df['Origional Price'].fillna(df['Offer Price'])"
   ]
  },
  {
   "cell_type": "code",
   "execution_count": 37,
   "metadata": {},
   "outputs": [
    {
     "data": {
      "text/html": [
       "<div>\n",
       "<style scoped>\n",
       "    .dataframe tbody tr th:only-of-type {\n",
       "        vertical-align: middle;\n",
       "    }\n",
       "\n",
       "    .dataframe tbody tr th {\n",
       "        vertical-align: top;\n",
       "    }\n",
       "\n",
       "    .dataframe thead th {\n",
       "        text-align: right;\n",
       "    }\n",
       "</style>\n",
       "<table border=\"1\" class=\"dataframe\">\n",
       "  <thead>\n",
       "    <tr style=\"text-align: right;\">\n",
       "      <th></th>\n",
       "      <th>Product Name</th>\n",
       "      <th>Origional Price</th>\n",
       "      <th>Offer Price</th>\n",
       "      <th>Gift</th>\n",
       "      <th>Offer</th>\n",
       "      <th>Review</th>\n",
       "    </tr>\n",
       "  </thead>\n",
       "  <tbody>\n",
       "    <tr>\n",
       "      <th>0</th>\n",
       "      <td>Nykaa SKINRX 10% Vitamin C with 5% Niacinamide...</td>\n",
       "      <td>699.0</td>\n",
       "      <td>594</td>\n",
       "      <td>Get Free Product</td>\n",
       "      <td>15% Off</td>\n",
       "      <td>453</td>\n",
       "    </tr>\n",
       "    <tr>\n",
       "      <th>1</th>\n",
       "      <td>Nykaa Naturals Skin Potion Glow Boosting Skinc...</td>\n",
       "      <td>699.0</td>\n",
       "      <td>699</td>\n",
       "      <td>Enjoy Free Gift</td>\n",
       "      <td>0% Off</td>\n",
       "      <td>19138</td>\n",
       "    </tr>\n",
       "    <tr>\n",
       "      <th>2</th>\n",
       "      <td>Mamaearth Ubtan Face Wash With Turmeric &amp; Saff...</td>\n",
       "      <td>249.0</td>\n",
       "      <td>232</td>\n",
       "      <td>Extra 5% Off</td>\n",
       "      <td>7% Off</td>\n",
       "      <td>3175</td>\n",
       "    </tr>\n",
       "    <tr>\n",
       "      <th>3</th>\n",
       "      <td>Nudestix Nudeskin 3-Step Citrus Skin Renewal F...</td>\n",
       "      <td>2300.0</td>\n",
       "      <td>2300</td>\n",
       "      <td>No Gift</td>\n",
       "      <td>0% Off</td>\n",
       "      <td>3</td>\n",
       "    </tr>\n",
       "  </tbody>\n",
       "</table>\n",
       "</div>"
      ],
      "text/plain": [
       "                                        Product Name  Origional Price  \\\n",
       "0  Nykaa SKINRX 10% Vitamin C with 5% Niacinamide...            699.0   \n",
       "1  Nykaa Naturals Skin Potion Glow Boosting Skinc...            699.0   \n",
       "2  Mamaearth Ubtan Face Wash With Turmeric & Saff...            249.0   \n",
       "3  Nudestix Nudeskin 3-Step Citrus Skin Renewal F...           2300.0   \n",
       "\n",
       "   Offer Price              Gift    Offer  Review  \n",
       "0          594  Get Free Product  15% Off     453  \n",
       "1          699   Enjoy Free Gift   0% Off   19138  \n",
       "2          232      Extra 5% Off   7% Off    3175  \n",
       "3         2300           No Gift   0% Off       3  "
      ]
     },
     "execution_count": 37,
     "metadata": {},
     "output_type": "execute_result"
    }
   ],
   "source": [
    "df[:4]"
   ]
  },
  {
   "cell_type": "code",
   "execution_count": 38,
   "metadata": {},
   "outputs": [
    {
     "data": {
      "text/plain": [
       "<AxesSubplot:>"
      ]
     },
     "execution_count": 38,
     "metadata": {},
     "output_type": "execute_result"
    },
    {
     "data": {
      "image/png": "[encoded data removed]",
      "text/plain": [
       "<Figure size 432x288 with 1 Axes>"
      ]
     },
     "metadata": {
      "needs_background": "light"
     },
     "output_type": "display_data"
    }
   ],
   "source": [
    "df[['Origional Price','Offer Price']][:10].plot(kind='bar')"
   ]
  },
  {
   "cell_type": "code",
   "execution_count": 41,
   "metadata": {},
   "outputs": [
    {
     "data": {
      "image/png": "[encoded data removed]",
      "text/plain": [
       "<Figure size 1152x576 with 1 Axes>"
      ]
     },
     "metadata": {
      "needs_background": "light"
     },
     "output_type": "display_data"
    }
   ],
   "source": [
    "plt.figure(figsize = (16,8))\n",
    "plt.hist(data = df, x = 'Origional Price',bins=50, color = 'Green');"
   ]
  },
  {
   "cell_type": "code",
   "execution_count": 42,
   "metadata": {},
   "outputs": [
    {
     "data": {
      "text/plain": [
       "<AxesSubplot:xlabel='Origional Price', ylabel='Count'>"
      ]
     },
     "execution_count": 42,
     "metadata": {},
     "output_type": "execute_result"
    },
    {
     "data": {
      "image/png": "[encoded data removed]",
      "text/plain": [
       "<Figure size 1152x432 with 1 Axes>"
      ]
     },
     "metadata": {
      "needs_background": "light"
     },
     "output_type": "display_data"
    }
   ],
   "source": [
    "plt.figure(figsize = (16,6))\n",
    "g = sns.histplot(data = df, x = 'Origional Price', bins = 100,color = 'Blue')\n",
    "g.set(xlim = (0,2000))\n",
    "g"
   ]
  },
  {
   "cell_type": "code",
   "execution_count": 43,
   "metadata": {},
   "outputs": [
    {
     "data": {
      "image/png": "[encoded data removed]",
      "text/plain": [
       "<Figure size 720x360 with 1 Axes>"
      ]
     },
     "metadata": {
      "needs_background": "light"
     },
     "output_type": "display_data"
    }
   ],
   "source": [
    "gift = df.value_counts('Gift').sort_values(ascending=False)\n",
    "plt.figure(figsize = (10,5))\n",
    "sns.barplot(y=gift.index,x = gift,palette='rainbow');"
   ]
  },
  {
   "cell_type": "code",
   "execution_count": 44,
   "metadata": {},
   "outputs": [
    {
     "data": {
      "image/png": "[encoded data removed]",
      "text/plain": [
       "<Figure size 504x504 with 1 Axes>"
      ]
     },
     "metadata": {},
     "output_type": "display_data"
    }
   ],
   "source": [
    "g = df['Gift'].value_counts().head(8)\n",
    "plt.figure(figsize = (7,7))\n",
    "plt.pie(x = g, data = df,labels = g.index,autopct='%.0f%%')\n",
    "plt.show()"
   ]
  },
  {
   "cell_type": "code",
   "execution_count": 45,
   "metadata": {},
   "outputs": [
    {
     "data": {
      "text/plain": [
       "<AxesSubplot:ylabel='Offer'>"
      ]
     },
     "execution_count": 45,
     "metadata": {},
     "output_type": "execute_result"
    },
    {
     "data": {
      "image/png": "[encoded data removed]",
      "text/plain": [
       "<Figure size 576x360 with 1 Axes>"
      ]
     },
     "metadata": {
      "needs_background": "light"
     },
     "output_type": "display_data"
    }
   ],
   "source": [
    "a = df.value_counts('Offer').sort_values(ascending=False)\n",
    "plt.figure(figsize = (8,5))\n",
    "sns.barplot(y=a.index[:15],x=a[:15])"
   ]
  },
  {
   "cell_type": "code",
   "execution_count": 46,
   "metadata": {},
   "outputs": [
    {
     "data": {
      "image/png": "[encoded data removed]",
      "text/plain": [
       "<Figure size 504x504 with 1 Axes>"
      ]
     },
     "metadata": {},
     "output_type": "display_data"
    }
   ],
   "source": [
    "offer = df['Offer'].value_counts().head(8)\n",
    "plt.figure(figsize = (7,7))\n",
    "plt.pie(x = offer, data = df,labels = offer.index,autopct='%.0f%%')\n",
    "plt.show()"
   ]
  },
  {
   "cell_type": "code",
   "execution_count": 47,
   "metadata": {},
   "outputs": [
    {
     "data": {
      "text/plain": [
       "Text(0.5, 1.0, 'Offer price of Product by Gift')"
      ]
     },
     "execution_count": 47,
     "metadata": {},
     "output_type": "execute_result"
    },
    {
     "data": {
      "image/png": "[encoded data removed]",
      "text/plain": [
       "<Figure size 1440x576 with 1 Axes>"
      ]
     },
     "metadata": {
      "needs_background": "light"
     },
     "output_type": "display_data"
    }
   ],
   "source": [
    "plt.figure(figsize=(20,8))\n",
    "sns.barplot(x='Gift',y='Offer Price',data= df,palette='rainbow')\n",
    "plt.title('Offer price of Product by Gift')"
   ]
  },
  {
   "cell_type": "code",
   "execution_count": null,
   "metadata": {},
   "outputs": [],
   "source": []
  }
 ],
 "metadata": {
  "kernelspec": {
   "display_name": "Python 3",
   "language": "python",
   "name": "python3"
  },
  "language_info": {
   "codemirror_mode": {
    "name": "ipython",
    "version": 3
   },
   "file_extension": ".py",
   "mimetype": "text/x-python",
   "name": "python",
   "nbconvert_exporter": "python",
   "pygments_lexer": "ipython3",
   "version": "3.8.5"
  }
 },
 "nbformat": 4,
 "nbformat_minor": 4
}
